{
  "nbformat": 4,
  "nbformat_minor": 0,
  "metadata": {
    "colab": {
      "provenance": []
    },
    "kernelspec": {
      "name": "ir",
      "display_name": "R"
    },
    "language_info": {
      "name": "R"
    }
  },
  "cells": [
    {
      "cell_type": "markdown",
      "source": [
        "# Install any necessary libraries."
      ],
      "metadata": {
        "id": "q0QfUpIy73io"
      }
    },
    {
      "cell_type": "code",
      "source": [],
      "metadata": {
        "id": "_La7hrsH73tK"
      },
      "execution_count": null,
      "outputs": []
    },
    {
      "cell_type": "markdown",
      "source": [
        "# Load your libraries."
      ],
      "metadata": {
        "id": "OL92MAS773-q"
      }
    },
    {
      "cell_type": "code",
      "source": [],
      "metadata": {
        "id": "dXeV2wls74Sd"
      },
      "execution_count": 6,
      "outputs": []
    },
    {
      "cell_type": "markdown",
      "source": [
        "# Define some variables\n",
        "Create two string variables, one each for species and sample, as well as a character vector called \"conditions\". The latter should contain four elements: 2 strings, both of which should be \"control\" and two of whatever you named your sample variable."
      ],
      "metadata": {
        "id": "QqZ9nMfQ74x-"
      }
    },
    {
      "cell_type": "code",
      "source": [],
      "metadata": {
        "id": "kOpp37zQ747M"
      },
      "execution_count": null,
      "outputs": []
    },
    {
      "cell_type": "markdown",
      "source": [
        "# Use Paste0\n",
        "Suppose you have some files, SRARunTableLow.txt and SRARunTableHigh.txt. Create a variable using paste0 and your sample variable such that your new variable matches these file names when your sample variable is changed to \"high\" or \"low.\""
      ],
      "metadata": {
        "id": "7BGMLgS-75KY"
      }
    },
    {
      "cell_type": "code",
      "source": [],
      "metadata": {
        "id": "tFKuhtqUE7Ef"
      },
      "execution_count": null,
      "outputs": []
    },
    {
      "cell_type": "markdown",
      "source": [
        "# Create synthetic data\n",
        "Write two columns of whatever sort of data strikes your fancy and publish it to a csv. Consider the next two exercises when you do this."
      ],
      "metadata": {
        "id": "jTAy8guGLrZ6"
      }
    },
    {
      "cell_type": "code",
      "source": [],
      "metadata": {
        "id": "amLvYlGBLrie"
      },
      "execution_count": null,
      "outputs": []
    },
    {
      "cell_type": "markdown",
      "source": [
        "# Conditional statement\n",
        "Use the read.csv function to import the first column of your CSV if species is set to human, or the second column if species is set to mouse. Assign this data to a variable."
      ],
      "metadata": {
        "id": "7epUmeo5E7Sd"
      }
    },
    {
      "cell_type": "code",
      "source": [],
      "metadata": {
        "id": "LrDmjV80FFs5"
      },
      "execution_count": null,
      "outputs": []
    },
    {
      "cell_type": "markdown",
      "source": [
        "# Use ggplot\n",
        "Plot the data from your csv using ggplot in whatever format strikes your fancy and is appropriate for the data you chose. Pick some fun colors to use."
      ],
      "metadata": {
        "id": "rikpHQh_FF2n"
      }
    },
    {
      "cell_type": "code",
      "source": [],
      "metadata": {
        "id": "xQIfD6EfMDid"
      },
      "execution_count": null,
      "outputs": []
    }
  ]
}