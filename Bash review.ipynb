{
 "cells": [
  {
   "cell_type": "markdown",
   "id": "86660fea",
   "metadata": {},
   "source": [
    "# \"Hello, world!\" in Bash in Jupyter\n",
    "Every time you run a code block in bash in jupyter, you have to remind Jupyter what language you're using and where to find the conda environment."
   ]
  },
  {
   "cell_type": "code",
   "execution_count": 2,
   "id": "04489d21",
   "metadata": {},
   "outputs": [
    {
     "name": "stdout",
     "output_type": "stream",
     "text": [
      "Hello, world!\n"
     ]
    }
   ],
   "source": [
    "%%bash\n",
    "source /bobross/miniconda3/etc/profile.d/conda.sh\n",
    "echo 'Hello, world!'"
   ]
  },
  {
   "cell_type": "markdown",
   "id": "9f8e5800",
   "metadata": {},
   "source": [
    "# Use Python to create a list.txt\n",
    "Execute this code block. It's in Python. It sets up a text file for subsequent steps. "
   ]
  },
  {
   "cell_type": "code",
   "execution_count": 3,
   "id": "96bc5a1f",
   "metadata": {},
   "outputs": [
    {
     "name": "stdout",
     "output_type": "stream",
     "text": [
      "Done\n"
     ]
    }
   ],
   "source": [
    "samples = ['control', 'treatmentA', 'treatmentB']\n",
    "\n",
    "file = open(\"list.txt\", \"w\")\n",
    "for line in samples:\n",
    "    file.write(\"%s\\n\" % line)\n",
    "file.close()\n",
    "print('Done')"
   ]
  },
  {
   "cell_type": "markdown",
   "id": "58cf445b",
   "metadata": {},
   "source": [
    "# Exercise #1 For loop in Bash\n",
    "Write a bash script with a for loop that echoes the contents of the list.txt created in the previous step. "
   ]
  },
  {
   "cell_type": "code",
   "execution_count": null,
   "id": "359690c0",
   "metadata": {},
   "outputs": [],
   "source": []
  },
  {
   "cell_type": "markdown",
   "id": "b243fda4",
   "metadata": {},
   "source": [
    "# Use Python to create a config.txt\n",
    "Execute this code block. It's in Python. It sets up a text file for subsequent steps."
   ]
  },
  {
   "cell_type": "code",
   "execution_count": 6,
   "id": "b9cbca7a",
   "metadata": {},
   "outputs": [
    {
     "name": "stdout",
     "output_type": "stream",
     "text": [
      "Done\n"
     ]
    }
   ],
   "source": [
    "kingdom = \"Ocean\"\n",
    "princess = \"Ariel\"\n",
    "problem = \"Tail\"\n",
    "\n",
    "config = open(\"config.txt\", \"w\")\n",
    "configelements = [kingdom, princess, problem]\n",
    "for line in configelements:\n",
    "    config.write(\"%s\\n\" % line)\n",
    "config.close()\n",
    "print('Done')"
   ]
  },
  {
   "cell_type": "markdown",
   "id": "bc8a2786",
   "metadata": {},
   "source": [
    "# Exercise #2 \n",
    "Write a bash script that echos the name of the princess in the config file."
   ]
  },
  {
   "cell_type": "code",
   "execution_count": null,
   "id": "b6f0a608",
   "metadata": {},
   "outputs": [],
   "source": []
  },
  {
   "cell_type": "markdown",
   "id": "56294b0c",
   "metadata": {},
   "source": [
    "# Exercise #3 \n",
    "Write a bash script that checks the name of the princess. If the princess is Belle, print \"Lumiere.\" If the princess is Ariel, print \"Flounder\"."
   ]
  },
  {
   "cell_type": "code",
   "execution_count": null,
   "id": "c4bbd8ea",
   "metadata": {},
   "outputs": [],
   "source": []
  },
  {
   "cell_type": "markdown",
   "id": "5af57135",
   "metadata": {},
   "source": [
    "# Exercise #4\n",
    "Write a bash script that downloads the fastq file for this SRA entry https://www.ncbi.nlm.nih.gov/sra/SRX21497176[accn] "
   ]
  },
  {
   "cell_type": "code",
   "execution_count": null,
   "id": "4b90f95b",
   "metadata": {},
   "outputs": [],
   "source": []
  },
  {
   "cell_type": "markdown",
   "id": "231f2769",
   "metadata": {},
   "source": [
    "# Exercise #5\n",
    "Write a bash script that zips that fastq up"
   ]
  },
  {
   "cell_type": "code",
   "execution_count": null,
   "id": "88f39f76",
   "metadata": {},
   "outputs": [],
   "source": []
  },
  {
   "cell_type": "markdown",
   "id": "84dc8e5f",
   "metadata": {},
   "source": [
    "# Exercise #6\n",
    "Write a bash script that prints each line of the fastq that starts with \">\" without unzipping it. You can use the format <(file.fq.gz) in place of the unzipped file name as a process substitution. "
   ]
  },
  {
   "cell_type": "code",
   "execution_count": null,
   "id": "78dc8eae",
   "metadata": {},
   "outputs": [],
   "source": []
  },
  {
   "cell_type": "markdown",
   "id": "b91d3bbb",
   "metadata": {},
   "source": [
    "# Exercise #7\n",
    "Take your command from above and instead of printing the output, pipe it to a cut command. Specify the delimiter as a space and extract the first field."
   ]
  },
  {
   "cell_type": "code",
   "execution_count": null,
   "id": "84d91da6",
   "metadata": {},
   "outputs": [],
   "source": []
  },
  {
   "cell_type": "markdown",
   "id": "d6223cab",
   "metadata": {},
   "source": [
    "# Exercise #8\n",
    "Take your command from above and edit it so that it publishes the output to a file named \"decoys.txt\"."
   ]
  },
  {
   "cell_type": "code",
   "execution_count": null,
   "id": "af4847c0",
   "metadata": {},
   "outputs": [],
   "source": []
  }
 ],
 "metadata": {
  "kernelspec": {
   "display_name": "Python 3 (ipykernel)",
   "language": "python",
   "name": "python3"
  },
  "language_info": {
   "codemirror_mode": {
    "name": "ipython",
    "version": 3
   },
   "file_extension": ".py",
   "mimetype": "text/x-python",
   "name": "python",
   "nbconvert_exporter": "python",
   "pygments_lexer": "ipython3",
   "version": "3.8.12"
  },
  "toc": {
   "nav_menu": {},
   "number_sections": true,
   "sideBar": true,
   "skip_h1_title": false,
   "title_cell": "Table of Contents",
   "title_sidebar": "Contents",
   "toc_cell": false,
   "toc_position": {},
   "toc_section_display": true,
   "toc_window_display": false
  }
 },
 "nbformat": 4,
 "nbformat_minor": 5
}
