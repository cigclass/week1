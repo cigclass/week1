{
  "cells": [
    {
      "cell_type": "markdown",
      "id": "86660fea",
      "metadata": {
        "id": "86660fea"
      },
      "source": [
        "# \"Hello, world!\" in Bash in Jupyter\n",
        "Every time you run a code block in bash in jupyter, you have to remind Jupyter what language you're using and where to find the conda environment."
      ]
    },
    {
      "cell_type": "code",
      "execution_count": 1,
      "id": "04489d21",
      "metadata": {
        "id": "04489d21",
        "outputId": "4bb7d115-6596-420a-c30c-f5ab3a3fbb4e",
        "colab": {
          "base_uri": "https://localhost:8080/"
        }
      },
      "outputs": [
        {
          "output_type": "stream",
          "name": "stdout",
          "text": [
            "Hello, world!\n"
          ]
        },
        {
          "output_type": "stream",
          "name": "stderr",
          "text": [
            "bash: line 1: /bobross/miniconda3/etc/profile.d/conda.sh: No such file or directory\n"
          ]
        }
      ],
      "source": [
        "%%bash\n",
        "source /bobross/miniconda3/etc/profile.d/conda.sh\n",
        "echo 'Hello, world!'"
      ]
    },
    {
      "cell_type": "markdown",
      "id": "9f8e5800",
      "metadata": {
        "id": "9f8e5800"
      },
      "source": [
        "# Use Python to create a list.txt\n",
        "Execute this code block. It's in Python. It sets up a text file for subsequent steps."
      ]
    },
    {
      "cell_type": "code",
      "execution_count": 2,
      "id": "96bc5a1f",
      "metadata": {
        "id": "96bc5a1f",
        "outputId": "e7d7f312-eec6-4cb0-ec05-aed24197aa1c",
        "colab": {
          "base_uri": "https://localhost:8080/"
        }
      },
      "outputs": [
        {
          "output_type": "stream",
          "name": "stdout",
          "text": [
            "Done\n"
          ]
        }
      ],
      "source": [
        "samples = ['control', 'treatmentA', 'treatmentB']\n",
        "\n",
        "file = open(\"list.txt\", \"w\")\n",
        "for line in samples:\n",
        "    file.write(\"%s\\n\" % line)\n",
        "file.close()\n",
        "print('Done')"
      ]
    },
    {
      "cell_type": "markdown",
      "id": "58cf445b",
      "metadata": {
        "id": "58cf445b"
      },
      "source": [
        "# Exercise #1 For loop in Bash\n",
        "Write a bash script with a for loop that echoes the contents of the list.txt created in the previous step."
      ]
    },
    {
      "cell_type": "code",
      "execution_count": 3,
      "id": "359690c0",
      "metadata": {
        "id": "359690c0",
        "outputId": "20570d58-a389-4036-d77e-a0c730f41386",
        "colab": {
          "base_uri": "https://localhost:8080/"
        }
      },
      "outputs": [
        {
          "output_type": "stream",
          "name": "stdout",
          "text": [
            "control\n",
            "treatmentA\n",
            "treatmentB\n"
          ]
        }
      ],
      "source": [
        "%%bash\n",
        "for line in $(cat list.txt)\n",
        "  do\n",
        "    echo $line\n",
        "  done\n"
      ]
    },
    {
      "cell_type": "markdown",
      "id": "b243fda4",
      "metadata": {
        "id": "b243fda4"
      },
      "source": [
        "# Use Python to create a config.txt\n",
        "Execute this code block. It's in Python. It sets up a text file for subsequent steps."
      ]
    },
    {
      "cell_type": "code",
      "execution_count": 4,
      "id": "b9cbca7a",
      "metadata": {
        "id": "b9cbca7a",
        "outputId": "1662efdb-06dd-4f1b-dcc3-642756d31181",
        "colab": {
          "base_uri": "https://localhost:8080/"
        }
      },
      "outputs": [
        {
          "output_type": "stream",
          "name": "stdout",
          "text": [
            "Done\n"
          ]
        }
      ],
      "source": [
        "kingdom = \"Ocean\"\n",
        "princess = \"Ariel\"\n",
        "problem = \"Tail\"\n",
        "\n",
        "config = open(\"config.txt\", \"w\")\n",
        "configelements = [kingdom, princess, problem]\n",
        "for line in configelements:\n",
        "    config.write(\"%s\\n\" % line)\n",
        "config.close()\n",
        "print('Done')"
      ]
    },
    {
      "cell_type": "markdown",
      "id": "bc8a2786",
      "metadata": {
        "id": "bc8a2786"
      },
      "source": [
        "# Exercise #2\n",
        "Write a bash script that echos the name of the princess in the config file."
      ]
    },
    {
      "cell_type": "code",
      "execution_count": 5,
      "id": "b6f0a608",
      "metadata": {
        "id": "b6f0a608",
        "outputId": "7d8fde4b-07cd-4225-c99b-81c6acb8572e",
        "colab": {
          "base_uri": "https://localhost:8080/"
        }
      },
      "outputs": [
        {
          "output_type": "stream",
          "name": "stdout",
          "text": [
            "Ariel\n"
          ]
        }
      ],
      "source": [
        "%%bash\n",
        "\n",
        "sed -n '2p' config.txt"
      ]
    },
    {
      "cell_type": "markdown",
      "id": "56294b0c",
      "metadata": {
        "id": "56294b0c"
      },
      "source": [
        "# Exercise #3\n",
        "Write a bash script that checks the name of the princess. If the princess is Belle, print \"Lumiere.\" If the princess is Ariel, print \"Flounder\"."
      ]
    },
    {
      "cell_type": "code",
      "execution_count": 8,
      "id": "c4bbd8ea",
      "metadata": {
        "id": "c4bbd8ea",
        "outputId": "5813d87d-e2cb-44f1-b5d6-637c24df3214",
        "colab": {
          "base_uri": "https://localhost:8080/"
        }
      },
      "outputs": [
        {
          "output_type": "stream",
          "name": "stdout",
          "text": [
            "Flounder\n"
          ]
        }
      ],
      "source": [
        "%%bash\n",
        "\n",
        "if [ $(sed -n 2p config.txt) = \"Belle\" ]; then\n",
        "  echo \"Lumiere\"\n",
        "elif [ $(sed -n 2p config.txt) = \"Ariel\" ]; then\n",
        "  echo \"Flounder\"\n",
        "fi"
      ]
    },
    {
      "cell_type": "markdown",
      "id": "5af57135",
      "metadata": {
        "id": "5af57135"
      },
      "source": [
        "# Exercise #4\n",
        "Write a bash script that downloads the fastq file for this SRA entry https://www.ncbi.nlm.nih.gov/sra/SRX21497176[accn]"
      ]
    },
    {
      "cell_type": "code",
      "execution_count": 9,
      "id": "4b90f95b",
      "metadata": {
        "id": "4b90f95b",
        "outputId": "da962248-9995-473b-e5b8-286afd6473d8",
        "colab": {
          "base_uri": "https://localhost:8080/"
        }
      },
      "outputs": [
        {
          "output_type": "stream",
          "name": "stderr",
          "text": [
            "--2023-09-10 17:24:28--  https://www.ncbi.nlm.nih.gov/sra/SRX21497176\n",
            "Resolving www.ncbi.nlm.nih.gov (www.ncbi.nlm.nih.gov)... 130.14.29.110, 2607:f220:41e:4290::110\n",
            "Connecting to www.ncbi.nlm.nih.gov (www.ncbi.nlm.nih.gov)|130.14.29.110|:443... connected.\n",
            "HTTP request sent, awaiting response... 200 OK\n",
            "Length: unspecified [text/html]\n",
            "Saving to: ‘SRX21497176’\n",
            "\n",
            "     0K .......... .......... .......... .......... ........    974K=0.05s\n",
            "\n",
            "2023-09-10 17:24:29 (974 KB/s) - ‘SRX21497176’ saved [49698]\n",
            "\n"
          ]
        }
      ],
      "source": [
        "%%bash\n",
        "wget 'https://www.ncbi.nlm.nih.gov/sra/SRX21497176'"
      ]
    },
    {
      "cell_type": "markdown",
      "id": "231f2769",
      "metadata": {
        "id": "231f2769"
      },
      "source": [
        "# Exercise #5\n",
        "Write a bash script that zips that fastq up"
      ]
    },
    {
      "cell_type": "code",
      "execution_count": 10,
      "id": "88f39f76",
      "metadata": {
        "id": "88f39f76"
      },
      "outputs": [],
      "source": [
        "%%bash\n",
        "\n",
        "gzip SRX21497176"
      ]
    },
    {
      "cell_type": "markdown",
      "id": "84dc8e5f",
      "metadata": {
        "id": "84dc8e5f"
      },
      "source": [
        "# Exercise #6\n",
        "Write a bash script that prints each line of the fastq that starts with \">\" without unzipping it. You can use the format <(file.fq.gz) in place of the unzipped file name as a process substitution."
      ]
    },
    {
      "cell_type": "code",
      "execution_count": 11,
      "id": "78dc8eae",
      "metadata": {
        "id": "78dc8eae",
        "outputId": "bd13ea36-8e7d-44ae-dd2a-61f007388311",
        "colab": {
          "base_uri": "https://localhost:8080/"
        }
      },
      "outputs": [
        {
          "output_type": "stream",
          "name": "stdout",
          "text": [
            "<?xml version=\"1.0\" encoding=\"utf-8\"?>\n",
            "<!DOCTYPE html PUBLIC \"-//W3C//DTD XHTML 1.0 Transitional//EN\" \"http://www.w3.org/TR/xhtml1/DTD/xhtml1-transitional.dtd\">\n",
            "<html xmlns=\"http://www.w3.org/1999/xhtml\" lang=\"en\" xml:lang=\"en\">\n",
            "    <head xmlns:xi=\"http://www.w3.org/2001/XInclude\"><meta http-equiv=\"Content-Type\" content=\"text/html; charset=utf-8\" />\n",
            "    <!-- meta -->\n",
            "    <meta name=\"robots\" content=\"index,nofollow,noarchive\" />\n",
            "<meta name=\"ncbi_app\" content=\"entrez\" /><meta name=\"ncbi_db\" content=\"sra\" /><meta name=\"ncbi_report\" content=\"full\" /><meta name=\"ncbi_format\" content=\"html\" /><meta name=\"ncbi_pagesize\" content=\"20\" /><meta name=\"ncbi_sortorder\" content=\"default\" /><meta name=\"ncbi_pageno\" content=\"1\" /><meta name=\"ncbi_resultcount\" content=\"1\" /><meta name=\"ncbi_op\" content=\"retrieve\" /><meta name=\"ncbi_pdid\" content=\"full\" /><meta name=\"ncbi_sessionid\" content=\"CE8A239F4FDFBCC1_2640SID\" /><meta name=\"ncbi_uidlist\" content=\"28971384\" /><meta name=\"ncbi_filter\" content=\"all\" /><meta name=\"ncbi_stat\" content=\"false\" /><meta name=\"ncbi_hitstat\" content=\"false\" />\n",
            "    <!-- title -->\n",
            "    <title>GSM7734547: Calycosin and Tanshinone IIA 3; Rattus norvegicus; RNA-Seq - SRA - NCBI</title>\n",
            "    <!-- Common JS and CSS -->\n",
            "\t\t<script type=\"text/javascript\">\n",
            "\t\t</script>\n",
            "\t\t<script type=\"text/javascript\" src=\"https://static.pubmed.gov/core/jig/1.15.3/js/jig.min.js\"></script>  \n",
            "    <link xmlns=\"http://www.w3.org/1999/xhtml\" type=\"text/css\" rel=\"stylesheet\" href=\"//static.pubmed.gov/portal/portal3rc.fcgi/4208398/css/4207974/4206132.css\" xml:base=\"http://127.0.0.1/sites/static/header_footer/\" />    \n",
            "<link rel=\"shortcut icon\" href=\"//www.ncbi.nlm.nih.gov/favicon.ico\" /><meta name=\"ncbi_phid\" content=\"CE8A239F4FDA9491000000000A500967.m_11\" /><script type=\"text/javascript\"><!--\n",
            "--></script>\n",
            "<meta name='referrer' content='origin-when-cross-origin'/><link type=\"text/css\" rel=\"stylesheet\" href=\"//static.pubmed.gov/portal/portal3rc.fcgi/4216488/css/3808861/3917732/3974050/3751656/3395415/4093005/14534/4062871/4186458/4154435/4075711/12930/4033350/4128070/3861632.css\" /><link type=\"text/css\" rel=\"stylesheet\" href=\"//static.pubmed.gov/portal/portal3rc.fcgi/4216488/css/3501913/1303451.css\" media=\"print\" /><script type=\"text/javascript\">\n",
            "</script></head>\n",
            "    <body>\n",
            "    \t<div class=\"grid\">\n",
            "\t\t\t<div class=\"col twelve_col nomargin shadow\">\n",
            "\t\t\t\t<form enctype=\"application/x-www-form-urlencoded\" name=\"EntrezForm\" method=\"post\" onsubmit=\"return false;\" action=\"/sra\" id=\"EntrezForm\">\n",
            "\t\t\t\t\t<div xmlns:xi=\"http://www.w3.org/2001/XInclude\">\n",
            "    <!-- no javascript message -->\n",
            "    <noscript>\n",
            "\t<p class=\"nojs\">\n",
            "\t<strong>Warning:</strong>\n",
            "\t<a href=\"/guide/browsers/#enablejs\" title=\"Learn how to enable JavaScript\" target=\"_blank\">more...</a>\n",
            "\t</p>\n",
            "\t</noscript>\n",
            "    <div xmlns=\"http://www.w3.org/1999/xhtml\" id=\"universal_header\" xml:base=\"http://127.0.0.1/sites/static/header_footer/\">\n",
            "\t<section class=\"usa-banner\">\n",
            "\t\t<div class=\"usa-accordion\">\n",
            "\t\t\t<header class=\"usa-banner-header\">\n",
            "\t\t\t\t<div class=\"usa-grid usa-banner-inner\">\n",
            "\t\t\t\t\t<img src=\"https://www.ncbi.nlm.nih.gov/coreutils/uswds/img/favicons/favicon-57.png\" alt=\"U.S. flag\" />\n",
            "\t\t\t\t\t<p>An official website of the United States government</p>\n",
            "\t\t\t\t\t<button class=\"non-usa-accordion-button usa-banner-button\" aria-expanded=\"false\" aria-controls=\"gov-banner-top\" type=\"button\">\n",
            "\t\t\t\t\t\t<span class=\"usa-banner-button-text\">Here's how you know</span>\n",
            "\t\t\t\t\t</button>\n",
            "\t\t\t\t</div>\n",
            "\t\t\t</header>\n",
            "\t\t\t<div class=\"usa-banner-content usa-grid usa-accordion-content\" id=\"gov-banner-top\" aria-hidden=\"true\">\n",
            "\t\t\t\t<div class=\"usa-banner-guidance-gov usa-width-one-half\">\n",
            "\t\t\t\t\t<img class=\"usa-banner-icon usa-media_block-img\" src=\"https://www.ncbi.nlm.nih.gov/coreutils/uswds/img/icon-dot-gov.svg\" alt=\"Dot gov\" />\n",
            "\t\t\t\t\t<div class=\"usa-media_block-body\">\n",
            "\t\t\t\t\t\t<p>\n",
            "\t\t\t\t\t\t\t<strong>The .gov means it's official.</strong>\n",
            "\t\t\t\t\t\t\t<br />\n",
            "\t\t\t\t\t\t</p>\n",
            "\t\t\t\t\t</div>\n",
            "\t\t\t\t</div>\n",
            "\t\t\t\t<div class=\"usa-banner-guidance-ssl usa-width-one-half\">\n",
            "\t\t\t\t\t<img class=\"usa-banner-icon usa-media_block-img\" src=\"https://www.ncbi.nlm.nih.gov/coreutils/uswds/img/icon-https.svg\" alt=\"Https\" />\n",
            "\t\t\t\t\t<div class=\"usa-media_block-body\">\n",
            "\t\t\t\t\t\t<p>\n",
            "\t\t\t\t\t\t\t<strong>The site is secure.</strong>\n",
            "\t\t\t\t\t\t\t<br />\n",
            "\t\t\t\t\t\t\tThe <strong>https://</strong> ensures that you are connecting to the\n",
            "\t\t\t\t\t\t</p>\n",
            "\t\t\t\t\t</div>\n",
            "\t\t\t\t</div>\n",
            "\t\t\t</div>\n",
            "\t\t</div>\n",
            "\t</section>\n",
            "\t<div class=\"usa-overlay\"></div>\n",
            "\t<header class=\"ncbi-header\" role=\"banner\" data-section=\"Header\">\n",
            "\t\t<div class=\"usa-grid\">\n",
            "\t\t\t<div class=\"usa-width-one-whole\">\n",
            "\t\t\t\t<div class=\"ncbi-header__logo\">\n",
            "\t\t\t\t\t<a href=\"/\" class=\"logo\" aria-label=\"NCBI Logo\" data-ga-action=\"click_image\" data-ga-label=\"NIH NLM Logo\">\n",
            "\t\t\t\t\t\t<img src=\"https://www.ncbi.nlm.nih.gov/coreutils/nwds/img/logos/AgencyLogo.svg\" alt=\"NIH NLM Logo\" />\n",
            "\t\t\t\t\t</a>\n",
            "\t\t\t\t</div>\n",
            "\t\t\t\t<div class=\"ncbi-header__account\">\n",
            "\t\t\t\t\t<a id=\"account_login\" href=\"https://account.ncbi.nlm.nih.gov\" class=\"usa-button header-button\" style=\"display:none\" data-ga-action=\"open_menu\" data-ga-label=\"account_menu\">Log in</a>\n",
            "\t\t\t\t\t<button id=\"account_info\" class=\"header-button\" style=\"display:none\" aria-controls=\"account_popup\" type=\"button\">\n",
            "\t\t\t\t\t\t<span class=\"fa fa-user\" aria-hidden=\"true\">\n",
            "\t\t\t\t\t\t\t<svg xmlns=\"http://www.w3.org/2000/svg\" viewBox=\"0 0 24 24\" width=\"20px\" height=\"20px\">\n",
            "\t\t\t\t\t\t\t\t<g style=\"fill: #fff\">\n",
            "\t\t\t\t\t\t\t\t\t<ellipse cx=\"12\" cy=\"8\" rx=\"5\" ry=\"6\"></ellipse>\n",
            "\t\t\t\t\t\t\t\t\t<path d=\"M21.8,19.1c-0.9-1.8-2.6-3.3-4.8-4.2c-0.6-0.2-1.3-0.2-1.8,0.1c-1,0.6-2,0.9-3.2,0.9s-2.2-0.3-3.2-0.9    C8.3,14.8,7.6,14.7,7,15c-2.2,0.9-3.9,2.4-4.8,4.2C1.5,20.5,2.6,22,4.1,22h15.8C21.4,22,22.5,20.5,21.8,19.1z\"></path>\n",
            "\t\t\t\t\t\t\t\t</g>\n",
            "\t\t\t\t\t\t\t</svg>\n",
            "\t\t\t\t\t\t</span>\n",
            "\t\t\t\t\t\t<span class=\"username desktop-only\" aria-hidden=\"true\" id=\"uname_short\"></span>\n",
            "\t\t\t\t\t\t<span class=\"sr-only\">Show account info</span>\n",
            "\t\t\t\t\t</button>\n",
            "\t\t\t\t</div>\n",
            "\t\t\t\t<div class=\"ncbi-popup-anchor\">\n",
            "\t\t\t\t\t<div class=\"ncbi-popup account-popup\" id=\"account_popup\" aria-hidden=\"true\">\n",
            "\t\t\t\t\t\t<div class=\"ncbi-popup-head\">\n",
            "\t\t\t\t\t\t\t<button class=\"ncbi-close-button\" data-ga-action=\"close_menu\" data-ga-label=\"account_menu\" type=\"button\">\n",
            "\t\t\t\t\t\t\t\t<span class=\"fa fa-times\">\n",
            "\t\t\t\t\t\t\t\t\t<svg xmlns=\"http://www.w3.org/2000/svg\" viewBox=\"0 0 48 48\" width=\"24px\" height=\"24px\">\n",
            "\t\t\t\t\t\t\t\t\t\t<path d=\"M38 12.83l-2.83-2.83-11.17 11.17-11.17-11.17-2.83 2.83 11.17 11.17-11.17 11.17 2.83 2.83 11.17-11.17 11.17 11.17 2.83-2.83-11.17-11.17z\"></path>\n",
            "\t\t\t\t\t\t\t\t\t</svg>\n",
            "\t\t\t\t\t\t\t\t</span>\n",
            "\t\t\t\t\t\t\t\t<span class=\"usa-sr-only\">Close</span></button>\n",
            "\t\t\t\t\t\t\t<h4>Account</h4>\n",
            "\t\t\t\t\t\t</div>\n",
            "\t\t\t\t\t\t<div class=\"account-user-info\">\n",
            "\t\t\t\t\t\t\tLogged in as:<br />\n",
            "\t\t\t\t\t\t\t<b><span class=\"username\" id=\"uname_long\">username</span></b>\n",
            "\t\t\t\t\t\t</div>\n",
            "\t\t\t\t\t\t<div class=\"account-links\">\n",
            "\t\t\t\t\t\t\t<ul class=\"usa-unstyled-list\">\n",
            "\t\t\t\t\t\t\t\t<li><a id=\"account_myncbi\" href=\"/myncbi/\" class=\"set-base-url\" data-ga-action=\"click_menu_item\" data-ga-label=\"account_myncbi\">Dashboard</a></li>\n",
            "\t\t\t\t\t\t\t\t<li><a id=\"account_pubs\" href=\"/myncbi/collections/bibliography/\" class=\"set-base-url\" data-ga-action=\"click_menu_item\" data-ga-label=\"account_pubs\">Publications</a></li>\n",
            "\t\t\t\t\t\t\t\t<li><a id=\"account_settings\" href=\"/account/settings/\" class=\"set-base-url\" data-ga-action=\"click_menu_item\" data-ga-label=\"account_settings\">Account settings</a></li>\n",
            "\t\t\t\t\t\t\t\t<li><a id=\"account_logout\" href=\"/account/signout/\" class=\"set-base-url\" data-ga-action=\"click_menu_item\" data-ga-label=\"account_logout\">Log out</a></li>\n",
            "\t\t\t\t\t\t\t</ul>\n",
            "\t\t\t\t\t\t</div>\n",
            "\t\t\t\t\t</div>\n",
            "\t\t\t\t</div>\n",
            "\t\t\t</div>\n",
            "\t\t</div>\n",
            "\t</header>\n",
            "\t<div role=\"navigation\" aria-label=\"access keys\">\n",
            "\t\t<a id=\"nws_header_accesskey_0\" href=\"https://www.ncbi.nlm.nih.gov/guide/browsers/#ncbi_accesskeys\" class=\"usa-sr-only\" accesskey=\"0\" tabindex=\"-1\">Access keys</a>\n",
            "\t\t<a id=\"nws_header_accesskey_1\" href=\"https://www.ncbi.nlm.nih.gov\" class=\"usa-sr-only\" accesskey=\"1\" tabindex=\"-1\">NCBI Homepage</a>\n",
            "\t\t<a id=\"nws_header_accesskey_2\" href=\"/myncbi/\" class=\"set-base-url usa-sr-only\" accesskey=\"2\" tabindex=\"-1\">MyNCBI Homepage</a>\n",
            "\t\t<a id=\"nws_header_accesskey_3\" href=\"#maincontent\" class=\"usa-sr-only\" accesskey=\"3\" tabindex=\"-1\">Main Content</a>\n",
            "\t\t<a id=\"nws_header_accesskey_4\" href=\"#\" class=\"usa-sr-only\" accesskey=\"4\" tabindex=\"-1\">Main Navigation</a>\n",
            "\t</div>\n",
            "\t<section data-section=\"Alerts\">\n",
            "\t\t<div class=\"ncbi-alerts-placeholder\"></div>\n",
            "\t</section>    \n",
            "</div>\n",
            "    <div class=\"header\">\n",
            "    <!-- logo -->\n",
            "    <div class=\"res_logo\"><h1 class=\"res_name\"><a href=\"/sra\">SRA</a></h1>\n",
            "\t\t\t\t<h2 class=\"res_tagline\">Sequence Read Archive</h2></div>\n",
            "    <!-- SearchBar -->\n",
            "    <div class=\"search\"><div class=\"search_form\"><label for=\"database\" class=\"offscreen_noflow\">Search database</label><select id=\"database\"><option value=\"gquery\">All Databases</option><option value=\"assembly\">Assembly</option><option value=\"biocollections\">Biocollections</option><option value=\"bioproject\">BioProject</option><option value=\"biosample\">BioSample</option><option value=\"books\">Books</option><option value=\"clinvar\">ClinVar</option><option value=\"cdd\">Conserved Domains</option><option value=\"gap\">dbGaP</option><option value=\"dbvar\">dbVar</option><option value=\"gene\">Gene</option><option value=\"genome\">Genome</option><option value=\"gds\">GEO DataSets</option><option value=\"geoprofiles\">GEO Profiles</option><option value=\"gtr\">GTR</option><option value=\"homologene\">HomoloGene</option><option value=\"ipg\">Identical Protein Groups</option><option value=\"medgen\" data-ac_dict=\"medgen_disease_name\">MedGen</option><option value=\"mesh\" data-ac_dict=\"mesh_suggestions\">MeSH</option><option value=\"nlmcatalog\">NLM Catalog</option><option value=\"nuccore\">Nucleotide</option><option value=\"omim\">OMIM</option><option value=\"pmc\">PMC</option><option value=\"popset\">PopSet</option><option value=\"protein\">Protein</option><option value=\"proteinclusters\">Protein Clusters</option><option value=\"protfam\">Protein Family Models</option><option value=\"pcassay\">PubChem BioAssay</option><option value=\"pccompound\">PubChem Compound</option><option value=\"pcsubstance\">PubChem Substance</option><option value=\"pubmed\" data-ac_dict=\"pm_related_queries_2\">PubMed</option><option value=\"snp\">SNP</option><option value=\"sra\" selected=\"selected\">SRA</option><option value=\"structure\">Structure</option><option value=\"taxonomy\">Taxonomy</option><option value=\"toolkit\">ToolKit</option><option value=\"toolkitall\">ToolKitAll</option><option value=\"toolkitbookgh\">ToolKitBookgh</option></select><div class=\"nowrap\"><label for=\"term\" class=\"offscreen_noflow\" accesskey=\"/\">Search term</label><div class=\"nowrap\"><input type=\"text\" name=\"term\" id=\"term\" title=\"Search SRA\" value=\"\" class=\"jig-ncbiclearbutton jig-ncbiautocomplete\" data-jigconfig=\"isEnabled:false,disableUrl:'NcbiSearchBarAutoComplCtrl'\" autocomplete=\"off\" data-sbconfig=\"ds:'no',pjs:'yes',afs:'yes'\" /></div><button id=\"search\" type=\"submit\" class=\"button_search nowrap\" cmd=\"go\">Search</button></div></div><ul class=\"searchlinks inline_list\"><set></set><li><a href=\"/sra/advanced\">Advanced</a></li><li class=\"help\"><a id=\"help\" class=\"jig-ncbihelpwindow\" target=\"ncbihelp\" name=\"help\" href=\"/sra/docs/\">Help</a></li></ul></div>\n",
            "</div>   \n",
            "    <input name=\"EntrezSystem2.PEntrez.Sra.Sra_PageController.PreviousPageName\" sid=\"1\" type=\"hidden\" value=\"results\" />\n",
            "    <div id=\"faceted_search\" class=\"\">\n",
            "    <h2 class=\"offscreen_noflow\">Result Filters</h2>\n",
            "</div>\n",
            "<div id=\"maincontent\" class=\"col nine_col\">\n",
            "    <div class=\"content\">\n",
            "        <div class=\"results_settings one_setting\"><ul class=\"inline_list left display_settings\"><li><a name=\"EntrezSystem2.PEntrez.Sra.Sra_ResultsPanel.Sra_DisplayBar.Display\" sid=\"0\" href=\"#\" class=\"jig-ncbipopper\" data-jigconfig=\"triggerPosition : 'bottom center',destPosition : 'top center',destSelector : '#display_settings_menu_report',                     hasArrow : false,openEvent : 'click',closeEvent : 'click',isTriggerElementCloseClick: false,addCloseButton : false,                      groupName: 'entrez_pg'\" id=\"EntrezSystem2.PEntrez.Sra.Sra_ResultsPanel.Sra_DisplayBar.Display\">Full<span href=\"#\" class=\"tgt_dark\"></span></a></li></ul><div id=\"display_settings_menu_report\" class=\"disp_settings tabPopper\"><fieldset class=\"format\"><legend>Format</legend><ul class=\"column_list\"><li><input type=\"radio\" name=\"EntrezSystem2.PEntrez.Sra.Sra_ResultsPanel.Sra_DisplayBar.sPresentation\" sid=\"1\" value=\"DocSum\" format=\"\" id=\"DocSum\" /><label for=\"DocSum\">Summary</label></li><li><input type=\"radio\" name=\"EntrezSystem2.PEntrez.Sra.Sra_ResultsPanel.Sra_DisplayBar.sPresentation\" sid=\"1\" value=\"Full\" format=\"\" id=\"Full\" checked=\"true\" /><label for=\"Full\">Full</label></li><li><input type=\"radio\" name=\"EntrezSystem2.PEntrez.Sra.Sra_ResultsPanel.Sra_DisplayBar.sPresentation\" sid=\"2\" value=\"FullXml\" format=\"\" id=\"FullXml\" /><label for=\"FullXml\">Full XML</label></li></ul></fieldset><input name=\"EntrezSystem2.PEntrez.Sra.Sra_ResultsPanel.Sra_DisplayBar.WebEnv\" sid=\"1\" type=\"hidden\" value=\"MCID_64fdfbcda5cdee3611ebf1bd\" /></div><button name=\"EntrezSystem2.PEntrez.Sra.Sra_ResultsPanel.Sra_DisplayBar.SetDisplay\" sid=\"1\" class=\"button_apply ncbipopper-close-button\" style=\"display:none\">Apply</button><h4 class=\"content_header send_to align_right jig-ncbipopper\" id=\"sendto\" data-jigconfig=\"triggerPosition:'bottom center', destPosition : 'top center',destSelector : '#send_to_menu', hasArrow : false,                 openEvent : 'click',closeEvent : 'click', isTriggerElementCloseClick: false, addCloseButton:true, groupName: 'entrez_pg', adjustFit:'none'\"><a href=\"#\" sourceContent=\"send_to_menu\" class=\"tgt_dark\">Send to:</a><script type=\"text/javascript\">\n",
            "                    </script></h4><div id=\"send_to_menu\" class=\"tabPopper send_to\"><fieldset><legend>Choose Destination</legend><ul class=\"column_list\"><li><input type=\"radio\" name=\"EntrezSystem2.PEntrez.Sra.Sra_ResultsPanel.Sra_DisplayBar.SendTo\" sid=\"1\" value=\"File\" id=\"dest_File\" /><label for=\"dest_File\">File</label></li><li><input type=\"radio\" name=\"EntrezSystem2.PEntrez.Sra.Sra_ResultsPanel.Sra_DisplayBar.SendTo\" sid=\"2\" value=\"AddToClipboard\" id=\"dest_AddToClipboard\" /><label for=\"dest_AddToClipboard\">Clipboard</label></li><li><input type=\"radio\" name=\"EntrezSystem2.PEntrez.Sra.Sra_ResultsPanel.Sra_DisplayBar.SendTo\" sid=\"3\" value=\"AddToCollections\" id=\"dest_AddToCollections\" /><label for=\"dest_AddToCollections\">Collections</label></li><li><input type=\"radio\" name=\"EntrezSystem2.PEntrez.Sra.Sra_ResultsPanel.Sra_DisplayBar.SendTo\" sid=\"4\" value=\"blast\" id=\"dest_blast\" /><label for=\"dest_blast\">BLAST</label></li><li><input type=\"radio\" name=\"EntrezSystem2.PEntrez.Sra.Sra_ResultsPanel.Sra_DisplayBar.SendTo\" sid=\"5\" value=\"run_selector\" id=\"dest_run_selector\" /><label for=\"dest_run_selector\">Run Selector</label></li></ul></fieldset><div class=\"submenu file\" id=\"submenu_File\" style=\"display: none;\"><p id=\"submenu_File_hint\" class=\"hidden\"></p><ul><li><label for=\"file_format\">Format</label><select id=\"file_format\" name=\"EntrezSystem2.PEntrez.Sra.Sra_ResultsPanel.Sra_DisplayBar.FFormat\" sid=\"1\"><option value=\"docsumcsv\" format=\"text\">Summary</option><option value=\"runinfo\" format=\"text\">RunInfo</option><option value=\"acclist\" format=\"text\">Accession List</option><option value=\"exp\" format=\"text\">Full XML</option></select></li></ul><button name=\"EntrezSystem2.PEntrez.Sra.Sra_ResultsPanel.Sra_DisplayBar.SendToSubmit\" sid=\"1\" class=\"button_apply file ncbipopper-close-button\" type=\"submit\" cmd=\"File\">Create File</button></div><div class=\"submenu addtoclipboard\" id=\"submenu_AddToClipboard\" style=\"display: none;\"><p id=\"submenu_AddToClipboard_hint\" class=\"hidden\"></p><button name=\"EntrezSystem2.PEntrez.Sra.Sra_ResultsPanel.Sra_DisplayBar.SendToSubmit\" sid=\"2\" class=\"button_apply clipboard ncbipopper-close-button\" type=\"submit\" cmd=\"AddToClipboard\">Add to Clipboard</button></div><div class=\"submenu addtocollections\" id=\"submenu_AddToCollections\" style=\"display: none;\"><p id=\"submenu_AddToCollections_hint\" class=\"hidden\"></p><button name=\"EntrezSystem2.PEntrez.Sra.Sra_ResultsPanel.Sra_DisplayBar.SendToSubmit\" sid=\"3\" class=\"button_apply collections ncbipopper-close-button\" type=\"submit\" cmd=\"AddToCollections\">Add to Collections</button></div><div class=\"submenu run_selector\" id=\"submenu_run_selector\" style=\"display: none;\"><p id=\"submenu_run_selector_hint\" class=\"hidden\"></p><button type=\"button\" id=\"sra_run_selector_button\" onclick=\"Portal.$send('sra-to-run-selector', {webenv:&quot;MCID_64fdfbcda5cdee3611ebf1bd&quot;, query_key:&quot;1&quot;})\">Go</button></div><div class=\"submenu blast\" id=\"submenu_blast\" style=\"display: none;\"><p id=\"submenu_blast_hint\" class=\"hidden\"></p><button type=\"button\" id=\"sra_to_blast_button\" onclick=\"Portal.$send('sra-to-blast')\">Send</button></div></div><div><input name=\"EntrezSystem2.PEntrez.Sra.Sra_ResultsPanel.Sra_DisplayBar.FileFormat\" sid=\"1\" type=\"hidden\" value=\"full\" /><input name=\"EntrezSystem2.PEntrez.Sra.Sra_ResultsPanel.Sra_DisplayBar.LastPresentation\" sid=\"1\" type=\"hidden\" value=\"full\" /><input name=\"EntrezSystem2.PEntrez.Sra.Sra_ResultsPanel.Sra_DisplayBar.Presentation\" sid=\"1\" type=\"hidden\" value=\"full\" /><input name=\"EntrezSystem2.PEntrez.Sra.Sra_ResultsPanel.Sra_DisplayBar.PageSize\" sid=\"1\" type=\"hidden\" value=\"20\" /><input name=\"EntrezSystem2.PEntrez.Sra.Sra_ResultsPanel.Sra_DisplayBar.LastPageSize\" sid=\"1\" type=\"hidden\" value=\"20\" /><input name=\"EntrezSystem2.PEntrez.Sra.Sra_ResultsPanel.Sra_DisplayBar.Format\" sid=\"1\" type=\"hidden\" value=\"\" /><input name=\"EntrezSystem2.PEntrez.Sra.Sra_ResultsPanel.Sra_DisplayBar.LastFormat\" sid=\"1\" type=\"hidden\" value=\"\" /><input name=\"EntrezSystem2.PEntrez.Sra.Sra_ResultsPanel.Sra_DisplayBar.PrevPageSize\" sid=\"1\" type=\"hidden\" value=\"20\" /><input name=\"EntrezSystem2.PEntrez.Sra.Sra_ResultsPanel.Sra_DisplayBar.PrevPresentation\" sid=\"1\" type=\"hidden\" value=\"full\" /><input name=\"EntrezSystem2.PEntrez.Sra.Sra_ResultsPanel.Sra_DisplayBar.PrevSort\" sid=\"1\" type=\"hidden\" value=\"\" /><input type=\"hidden\" id=\"coll_startindex\" name=\"CollectionStartIndex\" value=\"1\" /></div></div>\n",
            "        <div>\n",
            "</div>\n",
            "        <div class=\"\">\n",
            "            <div><span id=\"result_sel\" class=\"nowrap\"></span><input name=\"EntrezSystem2.PEntrez.Sra.Sra_ResultsPanel.Sra_ResultsController.ResultCount\" sid=\"1\" type=\"hidden\" id=\"resultcount\" value=\"1\" /><input name=\"EntrezSystem2.PEntrez.Sra.Sra_ResultsPanel.Sra_ResultsController.RunLastQuery\" sid=\"1\" type=\"hidden\" /></div>\n",
            "        </div>       \n",
            "        <div id=\"messagearea\" class=\"empty\">\n",
            "        </div>\n",
            "        <div><p class=\"details expand e-hidden\"><b><a href=\"/sra/SRX21497176[accn]\">SRX21497176</a>: GSM7734547: Calycosin and Tanshinone IIA 3; Rattus norvegicus; RNA-Seq</b><br />1 ILLUMINA (HiSeq X Ten) run: 33M spots, 9.9G bases, 3.8Gb downloads</p><div class=\"rprt\"><p class=\"title\"><a href=\"\" ref=\"ordinalpos=1&amp;ncbi_uid=28971384&amp;link_uid=28971384\"></a></p><p class=\"rprtbody\"><div id=\"ResultView\" uid=\"28971384\"><div class=\"sra-full-data\">External Id: <span>GSM7734547_r1</span></div><div class=\"sra-full-data\">Submitted by: <span>山东中医药大学</span></div><div class=\"sra-full-data\">Study: <span>Compatibility of Calycosin-Tanshinone IIA improves Ang II-induced renal artery endothelial cell dysfunction through lncRNA-mRNA coexpression network<div class=\"expand-body\"><a href=\"/bioproject/PRJNA1009416\" title=\"Link to BioProject\">PRJNA1009416</a> • <a href=\"//trace.ncbi.nlm.nih.gov/Traces?study=SRP457195\" title=\"Link to SRA Study\">SRP457195</a> • <a href=\"/sra?term=SRP457195\">All experiments</a> • <a href=\"/Traces/study?acc=SRP457195\">All runs</a></div><div class=\"expand e-hidden expand-body\"><a href=\"#\" class=\"expand-handler\"><span class=\"more\">show Abstract</span><span class=\"less\">hide Abstract</span></a><div class=\"expand-body\">In the present investigation, an experimental model of endothelial cell injury was established by subjecting RRAECs to Ang II (5×10-7mol/L) for a duration of 24 h. Subsequently, this model was treated with a combination of Calycosin (3mg/L) and Tanshinone II (3mg/L). The changes in total ATP levels and autophagy function in RRAECs were evaluated using the ATP assay and dansylcadaverine (MDC) staining, respectively. Annexin V-FITC/PI staining and transwell assay were utilized to quantify the apoptosis rate and migration function of RRAECs. Moreover, the utilization of RNA-sequencing technology facilitated the identification of differentially expressed (DE) lncRNAs and mRNAs between various groups. Subsequently, a coexpression network between DE lncRNAs and mRNAs was constructed, followed by the implementation of GO and KEGG pathway enrichment analyses to elucidate the functional implications of the DE mRNAs interacting with lncRNAs within this network. Overall design: Full transcriptome sequencing of 1 cell type</div></div></span></div><div class=\"sra-full-data\">Sample: <span>Calycosin and Tanshinone IIA 3<div class=\"expand-body\"><a href=\"/biosample/SAMN37177763\" title=\"Link to BioSample\">SAMN37177763</a> • SRS18729418 • <a href=\"/sra?term=SAMN37177763\">All experiments</a> • <a href=\"/Traces/study?acc=SAMN37177763\">All runs</a></div></span><div class=\"expand-body\">Organism: <span><a href=\"/Taxonomy/Browser/wwwtax.cgi?mode=Info&amp;id=10116\">Rattus norvegicus</a></span></div></div><div class=\"expand showed sra-full-data\">Library: <div class=\"expand-body\"><div>Name: <span>GSM7734547</span></div><div>Instrument: <span>HiSeq X Ten</span></div><div>Strategy: <span>RNA-Seq</span></div><div>Source: <span>TRANSCRIPTOMIC</span></div><div>Selection: <span>cDNA</span></div><div>Layout: <span>PAIRED</span></div><div>Construction protocol: <span>Total RNA was extracted using the RNeasy mini kit (Qiagen, Germany). Strand-specific libraries were generated using the TruSeq® Stranded Total RNA Sample Preparation kit (Illumina, USA) according to the manufacturer's instructions. RNA libraries were prepared for sequencing using standard Illumina protocols</span></div></div></div><div class=\"sra-full-data\">Runs: <span>1 run, 33M spots, 9.9G bases, <a href=\"/Traces/study?acc=SRX21497176\" title=\"All runs for this experiment\">3.8Gb</a></span></div><table border=\"0\" cellpadding=\"1\" cellspacing=\"0\"><thead><tr class=\"sra-run-list-header\"><th width=\"20%\">Run</th><th width=\"20%\" align=\"right\"># of Spots</th><th width=\"20%\" align=\"right\"># of Bases</th><th width=\"20%\" align=\"right\">Size</th><th width=\"20%\" align=\"right\">Published</th></tr></thead><tbody><tr><td align=\"left\"><a href=\"//trace.ncbi.nlm.nih.gov/Traces?run=SRR25774528\">SRR25774528</a></td><td align=\"right\">32,953,241</td><td align=\"right\">9.9G</td><td align=\"right\">3.8Gb</td><td>2023-08-30</td></tr></tbody></table><br /></div></p><div class=\"aux\"><div class=\"resc\"><dl class=\"rprtid\"><dt>ID:</dt> <dd>28971384</dd> </dl></div><p class=\"links nohighlight\"></p></div></div></div>\n",
            "        <div id=\"messagearea_bottom\">\n",
            "        </div>\n",
            "        <div class=\" bottom\">\n",
            "        </div>\n",
            "    </div>\n",
            "</div>  \n",
            "<div class=\"supplemental col three_col last\">\n",
            "    <h2 class=\"offscreen_noflow\">Supplemental Content</h2>\n",
            "    <div>\n",
            "</div>\n",
            "</div>\n",
            "    <div id=\"NCBIFooter_dynamic\">\n",
            "    <!--<component id=\"NCBIBreadcrumbs\"/>\n",
            "    <component id=\"NCBIHelpDesk\"/>-->\n",
            "    <noscript><img alt=\"\" src=\"/stat?jsdisabled=true&amp;ncbi_app=entrez&amp;ncbi_db=sra&amp;ncbi_pdid=full&amp;ncbi_phid=CE8A239F4FDA9491000000000A500967\" /></noscript>\n",
            "</div>\n",
            "    <div xmlns=\"http://www.w3.org/1999/xhtml\" class=\"footer\" id=\"footer\" xml:base=\"http://127.0.0.1/sites/static/header_footer/\">\n",
            "\t<section class=\"icon-section\">\n",
            "\t\t<div id=\"icon-section-header\" class=\"icon-section_header\">Follow NCBI</div>\n",
            "\t\t<div class=\"grid-container container\">\n",
            "\t\t\t<div class=\"icon-section_container\">\n",
            "\t\t\t\t<a class=\"footer-icon\" id=\"footer_twitter\" href=\"https://twitter.com/ncbi\" aria-label=\"Twitter\"><svg xmlns=\"http://www.w3.org/2000/svg\" data-name=\"Layer 1\" viewBox=\"0 0 300 300\">\n",
            "\t\t\t\t\t<defs>\n",
            "\t\t\t\t\t\t<style>\n",
            "\t\t\t\t\t\t</style>\n",
            "\t\t\t\t\t</defs>\n",
            "\t\t\t\t\t<title>Twitter</title>\n",
            "\t\t\t\t\t<path class=\"cls-11\" d=\"M250.11,105.48c-7,3.14-13,3.25-19.27.14,8.12-4.86,8.49-8.27,11.43-17.46a78.8,78.8,0,0,1-25,9.55,39.35,39.35,0,0,0-67,35.85,111.6,111.6,0,0,1-81-41.08A39.37,39.37,0,0,0,81.47,145a39.08,39.08,0,0,1-17.8-4.92c0,.17,0,.33,0,.5a39.32,39.32,0,0,0,31.53,38.54,39.26,39.26,0,0,1-17.75.68,39.37,39.37,0,0,0,36.72,27.3A79.07,79.07,0,0,1,56,223.34,111.31,111.31,0,0,0,116.22,241c72.3,0,111.83-59.9,111.83-111.84,0-1.71,0-3.4-.1-5.09C235.62,118.54,244.84,113.37,250.11,105.48Z\">\n",
            "\t\t\t\t\t</path>\n",
            "\t\t\t\t</svg></a>\n",
            "\t\t\t\t<a class=\"footer-icon\" id=\"footer_facebook\" href=\"https://www.facebook.com/ncbi.nlm\" aria-label=\"Facebook\"><svg xmlns=\"http://www.w3.org/2000/svg\" data-name=\"Layer 1\" viewBox=\"0 0 300 300\">\n",
            "\t\t\t\t\t<title>Facebook</title>\n",
            "\t\t\t\t\t<path class=\"cls-11\" d=\"M210.5,115.12H171.74V97.82c0-8.14,5.39-10,9.19-10h27.14V52l-39.32-.12c-35.66,0-42.42,26.68-42.42,43.77v19.48H99.09v36.32h27.24v109h45.41v-109h35Z\">\n",
            "\t\t\t\t\t</path>\n",
            "\t\t\t\t</svg></a>\n",
            "\t\t\t\t<a class=\"footer-icon\" id=\"footer_linkedin\" href=\"https://www.linkedin.com/company/ncbinlm\" aria-label=\"LinkedIn\"><svg xmlns=\"http://www.w3.org/2000/svg\" data-name=\"Layer 1\" viewBox=\"0 0 300 300\">\n",
            "\t\t\t\t\t\t<title>LinkedIn</title>\n",
            "\t\t\t\t\t\t<path class=\"cls-11\" d=\"M101.64,243.37H57.79v-114h43.85Zm-22-131.54h-.26c-13.25,0-21.82-10.36-21.82-21.76,0-11.65,8.84-21.15,22.33-21.15S101.7,78.72,102,90.38C102,101.77,93.4,111.83,79.63,111.83Zm100.93,52.61A17.54,17.54,0,0,0,163,182v61.39H119.18s.51-105.23,0-114H163v13a54.33,54.33,0,0,1,34.54-12.66c26,0,44.39,18.8,44.39,55.29v58.35H198.1V182A17.54,17.54,0,0,0,180.56,164.44Z\">\n",
            "\t\t\t\t\t\t</path>\n",
            "\t\t\t\t\t</svg></a>\n",
            "\t\t\t\t<a class=\"footer-icon\" id=\"footer_github\" href=\"https://github.com/ncbi\" aria-label=\"GitHub\"><svg xmlns=\"http://www.w3.org/2000/svg\" data-name=\"Layer 1\" viewBox=\"0 0 300 300\">\n",
            "\t\t\t\t\t<defs>\n",
            "\t\t\t\t\t\t<style>\n",
            "\t\t\t\t\t\t</style>\n",
            "\t\t\t\t\t</defs>\n",
            "\t\t\t\t\t<title>GitHub</title>\n",
            "\t\t\t\t\t<path class=\"cls-11\" d=\"M151.36,47.28a105.76,105.76,0,0,0-33.43,206.1c5.28,1,7.22-2.3,7.22-5.09,0-2.52-.09-10.85-.14-19.69-29.42,6.4-35.63-12.48-35.63-12.48-4.81-12.22-11.74-15.47-11.74-15.47-9.59-6.56.73-6.43.73-6.43,10.61.75,16.21,10.9,16.21,10.9,9.43,16.17,24.73,11.49,30.77,8.79,1-6.83,3.69-11.5,6.71-14.14C108.57,197.1,83.88,188,83.88,147.51a40.92,40.92,0,0,1,10.9-28.39c-1.1-2.66-4.72-13.42,1-28,0,0,8.88-2.84,29.09,10.84a100.26,100.26,0,0,1,53,0C198,88.3,206.9,91.14,206.9,91.14c5.76,14.56,2.14,25.32,1,28a40.87,40.87,0,0,1,10.89,28.39c0,40.62-24.74,49.56-48.29,52.18,3.79,3.28,7.17,9.71,7.17,19.58,0,14.15-.12,25.54-.12,29,0,2.82,1.9,6.11,7.26,5.07A105.76,105.76,0,0,0,151.36,47.28Z\">\n",
            "\t\t\t\t\t</path>\n",
            "\t\t\t\t\t<path class=\"cls-12\" d=\"M85.66,199.12c-.23.52-1.06.68-1.81.32s-1.2-1.06-.95-1.59,1.06-.69,1.82-.33,1.21,1.07.94,1.6Zm-1.3-1\">\n",
            "\t\t\t\t\t</path>\n",
            "\t\t\t\t\t<path class=\"cls-12\" d=\"M90,203.89c-.51.47-1.49.25-2.16-.49a1.61,1.61,0,0,1-.31-2.19c.52-.47,1.47-.25,2.17.49s.82,1.72.3,2.19Zm-1-1.08\">\n",
            "\t\t\t\t\t</path>\n",
            "\t\t\t\t\t<path class=\"cls-12\" d=\"M94.12,210c-.65.46-1.71,0-2.37-.91s-.64-2.07,0-2.52,1.7,0,2.36.89.65,2.08,0,2.54Zm0,0\"></path>\n",
            "\t\t\t\t\t<path class=\"cls-12\" d=\"M99.83,215.87c-.58.64-1.82.47-2.72-.41s-1.18-2.06-.6-2.7,1.83-.46,2.74.41,1.2,2.07.58,2.7Zm0,0\">\n",
            "\t\t\t\t\t</path>\n",
            "\t\t\t\t\t<path class=\"cls-12\" d=\"M107.71,219.29c-.26.82-1.45,1.2-2.64.85s-2-1.34-1.74-2.17,1.44-1.23,2.65-.85,2,1.32,1.73,2.17Zm0,0\">\n",
            "\t\t\t\t\t</path>\n",
            "\t\t\t\t\t<path class=\"cls-12\" d=\"M116.36,219.92c0,.87-1,1.59-2.24,1.61s-2.29-.68-2.3-1.54,1-1.59,2.26-1.61,2.28.67,2.28,1.54Zm0,0\">\n",
            "\t\t\t\t\t</path>\n",
            "\t\t\t\t\t<path class=\"cls-12\" d=\"M124.42,218.55c.15.85-.73,1.72-2,1.95s-2.37-.3-2.52-1.14.73-1.75,2-2,2.37.29,2.53,1.16Zm0,0\"></path>\n",
            "\t\t\t\t</svg></a>\n",
            "\t\t\t\t<a class=\"footer-icon\" id=\"footer_blog\" href=\"https://ncbiinsights.ncbi.nlm.nih.gov/\" aria-label=\"Blog\">\n",
            "\t\t\t\t\t<svg xmlns=\"http://www.w3.org/2000/svg\" id=\"Layer_1\" data-name=\"Layer 1\" viewBox=\"0 0 40 40\">\n",
            "\t\t\t\t\t\t<defs><style>.cls-1{fill:#737373;}</style></defs>\n",
            "\t\t\t\t\t\t<title>NCBI Insights Blog</title>\n",
            "\t\t\t\t\t\t<path class=\"cls-1\" d=\"M14,30a4,4,0,1,1-4-4,4,4,0,0,1,4,4Zm11,3A19,19,0,0,0,7.05,15a1,1,0,0,0-1,1v3a1,1,0,0,0,.93,1A14,14,0,0,1,20,33.07,1,1,0,0,0,21,34h3a1,1,0,0,0,1-1Zm9,0A28,28,0,0,0,7,6,1,1,0,0,0,6,7v3a1,1,0,0,0,1,1A23,23,0,0,1,29,33a1,1,0,0,0,1,1h3A1,1,0,0,0,34,33Z\"></path>\n",
            "\t\t\t\t\t</svg>\n",
            "\t\t\t\t</a>\n",
            "\t\t\t</div>\n",
            "\t\t</div>\n",
            "\t</section>\n",
            "\t<section class=\"container-fluid bg-primary\">\n",
            "\t\t<div class=\"container pt-5\">\n",
            "\t\t\t<div class=\"row mt-3\">\n",
            "\t\t\t\t<div class=\"col-lg-3 col-12\">\n",
            "\t\t\t\t\t<p><a class=\"text-white\" href=\"https://www.nlm.nih.gov/socialmedia/index.html\">Connect with NLM</a></p>\n",
            "\t\t\t\t\t<ul class=\"list-inline social_media\">\n",
            "\t\t\t\t\t\t<li class=\"list-inline-item\"><a href=\"https://twitter.com/NLM_NIH\" aria-label=\"Twitter\" target=\"_blank\" rel=\"noopener noreferrer\"><svg xmlns=\"http://www.w3.org/2000/svg\" xmlns:xlink=\"http://www.w3.org/1999/xlink\" version=\"1.1\" x=\"0px\" y=\"0px\" viewBox=\"0 0 249 249\" style=\"enable-background:new 0 0 249 249;\" xml:space=\"preserve\">\n",
            "                      <style type=\"text/css\">\n",
            "                      </style>\n",
            "                      <title>Twitter</title>\n",
            "                      <g>\n",
            "                        <g>\n",
            "                          <g>\n",
            "                            <path class=\"st20\" d=\"M192.9,88.1c-5,2.2-9.2,2.3-13.6,0.1c5.7-3.4,6-5.8,8.1-12.3c-5.4,3.2-11.4,5.5-17.6,6.7                                                 c-10.5-11.2-28.1-11.7-39.2-1.2c-7.2,6.8-10.2,16.9-8,26.5c-22.3-1.1-43.1-11.7-57.2-29C58,91.6,61.8,107.9,74,116                                                 c-4.4-0.1-8.7-1.3-12.6-3.4c0,0.1,0,0.2,0,0.4c0,13.2,9.3,24.6,22.3,27.2c-4.1,1.1-8.4,1.3-12.5,0.5c3.6,11.3,14,19,25.9,19.3                                                 c-11.6,9.1-26.4,13.2-41.1,11.5c12.7,8.1,27.4,12.5,42.5,12.5c51,0,78.9-42.2,78.9-78.9c0-1.2,0-2.4-0.1-3.6                                                 C182.7,97.4,189.2,93.7,192.9,88.1z\"></path>\n",
            "                          </g>\n",
            "                        </g>\n",
            "                        <circle class=\"st30\" cx=\"124.4\" cy=\"128.8\" r=\"108.2\"></circle>\n",
            "                      </g>\n",
            "                    </svg></a></li>\n",
            "\t\t\t\t\t\t<li class=\"list-inline-item\"><a href=\"https://www.facebook.com/nationallibraryofmedicine\" aria-label=\"Facebook\" rel=\"noopener noreferrer\" target=\"_blank\">\n",
            "\t\t\t\t\t\t\t<svg xmlns=\"http://www.w3.org/2000/svg\" xmlns:xlink=\"http://www.w3.org/1999/xlink\" version=\"1.1\" x=\"0px\" y=\"0px\" viewBox=\"0 0 249 249\" style=\"enable-background:new 0 0 249 249;\" xml:space=\"preserve\">\n",
            "                      <style type=\"text/css\">\n",
            "                      </style>\n",
            "                      <title>Facebook</title>\n",
            "                      <g>\n",
            "                        <g>\n",
            "                          <path class=\"st10\" d=\"M159,99.1h-24V88.4c0-5,3.3-6.2,5.7-6.2h16.8V60l-24.4-0.1c-22.1,0-26.2,16.5-26.2,27.1v12.1H90v22.5h16.9                                                       v67.5H135v-67.5h21.7L159,99.1z\"></path>\n",
            "                        </g>\n",
            "                      </g>\n",
            "                      <circle class=\"st110\" cx=\"123.6\" cy=\"123.2\" r=\"108.2\"></circle>\n",
            "                    </svg>\n",
            "\t\t\t\t\t\t</a></li>\n",
            "\t\t\t\t\t\t<li class=\"list-inline-item\"><a href=\"https://www.youtube.com/user/NLMNIH\" aria-label=\"Youtube\" target=\"_blank\" rel=\"noopener noreferrer\"><svg xmlns=\"http://www.w3.org/2000/svg\" xmlns:xlink=\"http://www.w3.org/1999/xlink\" version=\"1.1\" x=\"0px\" y=\"0px\" viewBox=\"0 0 249 249\" style=\"enable-background:new 0 0 249 249;\" xml:space=\"preserve\">\n",
            "                      <title>Youtube</title>\n",
            "                      <style type=\"text/css\">\n",
            "                      </style>\n",
            "                      <circle class=\"st4\" cx=\"124.2\" cy=\"123.4\" r=\"108.2\"></circle>\n",
            "                      <g transform=\"translate(0,-952.36218)\">\n",
            "                        <path class=\"st5\" d=\"M88.4,1037.4c-10.4,0-18.7,8.3-18.7,18.7v40.1c0,10.4,8.3,18.7,18.7,18.7h72.1c10.4,0,18.7-8.3,18.7-18.7                                             v-40.1c0-10.4-8.3-18.7-18.7-18.7H88.4z M115.2,1058.8l29.4,17.4l-29.4,17.4V1058.8z\"></path>\n",
            "                      </g>\n",
            "                    </svg></a></li>\n",
            "\t\t\t\t\t</ul>\n",
            "\t\t\t\t</div>\n",
            "\t\t\t\t<div class=\"col-lg-3 col-12\">\n",
            "\t\t\t\t\t<p class=\"address_footer text-white\">National Library of Medicine<br />\n",
            "\t\t\t\t\t\t<a href=\"https://www.google.com/maps/place/8600+Rockville+Pike,+Bethesda,+MD+20894/@38.9959508,-77.101021,17z/data=!3m1!4b1!4m5!3m4!1s0x89b7c95e25765ddb:0x19156f88b27635b8!8m2!3d38.9959508!4d-77.0988323\" class=\"text-white\" target=\"_blank\" rel=\"noopener noreferrer\">8600 Rockville Pike<br />\n",
            "\t\t\t\t\t\t\tBethesda, MD 20894</a></p>\n",
            "\t\t\t\t</div>\n",
            "\t\t\t\t<div class=\"col-lg-3 col-12 centered-lg\">\n",
            "\t\t\t\t\t<p><a href=\"https://www.nlm.nih.gov/web_policies.html\" class=\"text-white\">Web Policies</a><br />\n",
            "\t\t\t\t\t\t<a href=\"https://www.nih.gov/institutes-nih/nih-office-director/office-communications-public-liaison/freedom-information-act-office\" class=\"text-white\">FOIA</a><br />\n",
            "\t\t\t\t\t\t<a href=\"https://www.hhs.gov/vulnerability-disclosure-policy/index.html\" class=\"text-white\" id=\"vdp\">HHS Vulnerability Disclosure</a></p>\n",
            "\t\t\t\t</div>\n",
            "\t\t\t\t<div class=\"col-lg-3 col-12 centered-lg\">\n",
            "\t\t\t\t\t<p><a class=\"supportLink text-white\" href=\"https://support.nlm.nih.gov/\">Help</a><br />\n",
            "\t\t\t\t\t\t<a href=\"https://www.nlm.nih.gov/accessibility.html\" class=\"text-white\">Accessibility</a><br />\n",
            "\t\t\t\t\t\t<a href=\"https://www.nlm.nih.gov/careers/careers.html\" class=\"text-white\">Careers</a></p>\n",
            "\t\t\t\t</div>\n",
            "\t\t\t</div>\n",
            "\t\t\t<div class=\"row\">\n",
            "\t\t\t\t<div class=\"col-lg-12 centered-lg\">\n",
            "\t\t\t\t\t<nav class=\"bottom-links\">\n",
            "\t\t\t\t\t\t<ul class=\"mt-3\">\n",
            "\t\t\t\t\t\t\t<li>\n",
            "\t\t\t\t\t\t\t\t<a class=\"text-white\" href=\"//www.nlm.nih.gov/\">NLM</a>\n",
            "\t\t\t\t\t\t\t</li>\n",
            "\t\t\t\t\t\t\t<li>\n",
            "\t\t\t\t\t\t\t\t<a class=\"text-white\" href=\"https://www.nih.gov/\">NIH</a>\n",
            "\t\t\t\t\t\t\t</li>\n",
            "\t\t\t\t\t\t\t<li>\n",
            "\t\t\t\t\t\t\t\t<a class=\"text-white\" href=\"https://www.hhs.gov/\">HHS</a>\n",
            "\t\t\t\t\t\t\t</li>\n",
            "\t\t\t\t\t\t\t<li>\n",
            "\t\t\t\t\t\t\t\t<a class=\"text-white\" href=\"https://www.usa.gov/\">USA.gov</a>\n",
            "\t\t\t\t\t\t\t</li>\n",
            "\t\t\t\t\t\t</ul>\n",
            "\t\t\t\t\t</nav>\n",
            "\t\t\t\t</div>\n",
            "\t\t\t</div>\n",
            "\t\t</div>\n",
            "\t</section>\n",
            "\t<script type=\"text/javascript\" src=\"/portal/portal3rc.fcgi/rlib/js/InstrumentOmnitureBaseJS/InstrumentNCBIConfigJS/InstrumentNCBIBaseJS/InstrumentPageStarterJS.js?v=1\"> </script>    \n",
            "\t<script type=\"text/javascript\" src=\"/portal/portal3rc.fcgi/static/js/hfjs2.js\"> </script>\n",
            "</div>\n",
            "</div>\n",
            "\t\t\t\t\t<div><input name=\"EntrezSystem2.PEntrez.DbConnector.Db\" sid=\"1\" type=\"hidden\" value=\"sra\" /><input name=\"EntrezSystem2.PEntrez.DbConnector.LastDb\" sid=\"1\" type=\"hidden\" value=\"sra\" /><input name=\"EntrezSystem2.PEntrez.DbConnector.Term\" sid=\"1\" type=\"hidden\" value=\"\" /><input name=\"EntrezSystem2.PEntrez.DbConnector.LastTabCmd\" sid=\"1\" type=\"hidden\" value=\"\" /><input name=\"EntrezSystem2.PEntrez.DbConnector.LastQueryKey\" sid=\"1\" type=\"hidden\" value=\"1\" /><input name=\"EntrezSystem2.PEntrez.DbConnector.IdsFromResult\" sid=\"1\" type=\"hidden\" value=\"\" /><input name=\"EntrezSystem2.PEntrez.DbConnector.LastIdsFromResult\" sid=\"1\" type=\"hidden\" value=\"\" /><input name=\"EntrezSystem2.PEntrez.DbConnector.LinkName\" sid=\"1\" type=\"hidden\" /><input name=\"EntrezSystem2.PEntrez.DbConnector.LinkReadableName\" sid=\"1\" type=\"hidden\" /><input name=\"EntrezSystem2.PEntrez.DbConnector.LinkSrcDb\" sid=\"1\" type=\"hidden\" /><input name=\"EntrezSystem2.PEntrez.DbConnector.Cmd\" sid=\"1\" type=\"hidden\" /><input name=\"EntrezSystem2.PEntrez.DbConnector.TabCmd\" sid=\"1\" type=\"hidden\" /><input name=\"EntrezSystem2.PEntrez.DbConnector.QueryKey\" sid=\"1\" type=\"hidden\" /></div>\n",
            "\t\t\t\t<input type=\"hidden\" name=\"p$a\" id=\"p$a\" /><input type=\"hidden\" name=\"p$l\" id=\"p$l\" value=\"EntrezSystem2\" /><input type=\"hidden\" name=\"p$st\" id=\"p$st\" value=\"sra\" /><input name=\"SessionId\" id=\"SessionId\" value=\"CE8A239F4FDFBCC1_2640SID\" disabled=\"disabled\" type=\"hidden\" /><input name=\"Snapshot\" id=\"Snapshot\" value=\"/projects/Sequences/SeqDbRelease@1.159\" disabled=\"disabled\" type=\"hidden\" /></form>\n",
            "\t\t\t</div>\n",
            "\t\t</div>\n",
            "<!-- CE8A239F4FDFBCC1_2640SID /projects/Sequences/SeqDbRelease@1.159 portal103 v4.1.r643667 Fri, Jan 14 2022 01:18:35 -->\n",
            "<span id=\"portal-csrf-token\" style=\"display:none\" data-token=\"CE8A239F4FDFBCC1_2640SID\"></span>\n",
            "<script type='text/javascript' src='/portal/js/portal.js'></script><script type=\"text/javascript\" src=\"//static.pubmed.gov/portal/portal3rc.fcgi/4216488/js/4189866/3812534/4212053/3812535/4080513/3868228/4186313/4211449/4107685/3758627/3681430/3908752/3423/24163/4001808.js\" snapshot=\"sra\"></script></body>\n",
            "</html>\n"
          ]
        }
      ],
      "source": [
        "%%bash\n",
        "\n",
        "zcat SRX21497176.gz | egrep '>'"
      ]
    },
    {
      "cell_type": "markdown",
      "id": "b91d3bbb",
      "metadata": {
        "id": "b91d3bbb"
      },
      "source": [
        "# Exercise #7\n",
        "Take your command from above and instead of printing the output, pipe it to a cut command. Specify the delimiter as a space and extract the first field."
      ]
    },
    {
      "cell_type": "code",
      "execution_count": 12,
      "id": "84d91da6",
      "metadata": {
        "id": "84d91da6",
        "outputId": "b553640b-4749-4e2e-d3a4-f96090f331a0",
        "colab": {
          "base_uri": "https://localhost:8080/"
        }
      },
      "outputs": [
        {
          "output_type": "stream",
          "name": "stdout",
          "text": [
            "<?xml\n",
            "<!DOCTYPE\n",
            "<html\n",
            "\n",
            "\n",
            "\n",
            "<meta\n",
            "\n",
            "\n",
            "\n",
            "\t\t<script\n",
            "\t\t</script>\n",
            "\t\t<script\n",
            "\n",
            "<link\n",
            "--></script>\n",
            "<meta\n",
            "</script></head>\n",
            "\n",
            "\n",
            "\t\t\t<div\n",
            "\t\t\t\t<form\n",
            "\t\t\t\t\t<div\n",
            "\n",
            "\n",
            "\t<p\n",
            "\t<strong>Warning:</strong>\n",
            "\t<a\n",
            "\t</p>\n",
            "\t</noscript>\n",
            "\n",
            "\t<section\n",
            "\t\t<div\n",
            "\t\t\t<header\n",
            "\t\t\t\t<div\n",
            "\t\t\t\t\t<img\n",
            "\t\t\t\t\t<p>An\n",
            "\t\t\t\t\t<button\n",
            "\t\t\t\t\t\t<span\n",
            "\t\t\t\t\t</button>\n",
            "\t\t\t\t</div>\n",
            "\t\t\t</header>\n",
            "\t\t\t<div\n",
            "\t\t\t\t<div\n",
            "\t\t\t\t\t<img\n",
            "\t\t\t\t\t<div\n",
            "\t\t\t\t\t\t<p>\n",
            "\t\t\t\t\t\t\t<strong>The\n",
            "\t\t\t\t\t\t\t<br\n",
            "\t\t\t\t\t\t</p>\n",
            "\t\t\t\t\t</div>\n",
            "\t\t\t\t</div>\n",
            "\t\t\t\t<div\n",
            "\t\t\t\t\t<img\n",
            "\t\t\t\t\t<div\n",
            "\t\t\t\t\t\t<p>\n",
            "\t\t\t\t\t\t\t<strong>The\n",
            "\t\t\t\t\t\t\t<br\n",
            "\t\t\t\t\t\t\tThe\n",
            "\t\t\t\t\t\t</p>\n",
            "\t\t\t\t\t</div>\n",
            "\t\t\t\t</div>\n",
            "\t\t\t</div>\n",
            "\t\t</div>\n",
            "\t</section>\n",
            "\t<div\n",
            "\t<header\n",
            "\t\t<div\n",
            "\t\t\t<div\n",
            "\t\t\t\t<div\n",
            "\t\t\t\t\t<a\n",
            "\t\t\t\t\t\t<img\n",
            "\t\t\t\t\t</a>\n",
            "\t\t\t\t</div>\n",
            "\t\t\t\t<div\n",
            "\t\t\t\t\t<a\n",
            "\t\t\t\t\t<button\n",
            "\t\t\t\t\t\t<span\n",
            "\t\t\t\t\t\t\t<svg\n",
            "\t\t\t\t\t\t\t\t<g\n",
            "\t\t\t\t\t\t\t\t\t<ellipse\n",
            "\t\t\t\t\t\t\t\t\t<path\n",
            "\t\t\t\t\t\t\t\t</g>\n",
            "\t\t\t\t\t\t\t</svg>\n",
            "\t\t\t\t\t\t</span>\n",
            "\t\t\t\t\t\t<span\n",
            "\t\t\t\t\t\t<span\n",
            "\t\t\t\t\t</button>\n",
            "\t\t\t\t</div>\n",
            "\t\t\t\t<div\n",
            "\t\t\t\t\t<div\n",
            "\t\t\t\t\t\t<div\n",
            "\t\t\t\t\t\t\t<button\n",
            "\t\t\t\t\t\t\t\t<span\n",
            "\t\t\t\t\t\t\t\t\t<svg\n",
            "\t\t\t\t\t\t\t\t\t\t<path\n",
            "\t\t\t\t\t\t\t\t\t</svg>\n",
            "\t\t\t\t\t\t\t\t</span>\n",
            "\t\t\t\t\t\t\t\t<span\n",
            "\t\t\t\t\t\t\t<h4>Account</h4>\n",
            "\t\t\t\t\t\t</div>\n",
            "\t\t\t\t\t\t<div\n",
            "\t\t\t\t\t\t\tLogged\n",
            "\t\t\t\t\t\t\t<b><span\n",
            "\t\t\t\t\t\t</div>\n",
            "\t\t\t\t\t\t<div\n",
            "\t\t\t\t\t\t\t<ul\n",
            "\t\t\t\t\t\t\t\t<li><a\n",
            "\t\t\t\t\t\t\t\t<li><a\n",
            "\t\t\t\t\t\t\t\t<li><a\n",
            "\t\t\t\t\t\t\t\t<li><a\n",
            "\t\t\t\t\t\t\t</ul>\n",
            "\t\t\t\t\t\t</div>\n",
            "\t\t\t\t\t</div>\n",
            "\t\t\t\t</div>\n",
            "\t\t\t</div>\n",
            "\t\t</div>\n",
            "\t</header>\n",
            "\t<div\n",
            "\t\t<a\n",
            "\t\t<a\n",
            "\t\t<a\n",
            "\t\t<a\n",
            "\t\t<a\n",
            "\t</div>\n",
            "\t<section\n",
            "\t\t<div\n",
            "\t</section>\n",
            "</div>\n",
            "\n",
            "\n",
            "\n",
            "\t\t\t\t<h2\n",
            "\n",
            "\n",
            "</div>\n",
            "\n",
            "\n",
            "\n",
            "</div>\n",
            "<div\n",
            "\n",
            "\n",
            "\n",
            "\n",
            "</div>\n",
            "\n",
            "\n",
            "\n",
            "\n",
            "\n",
            "\n",
            "\n",
            "\n",
            "\n",
            "\n",
            "\n",
            "</div>\n",
            "<div\n",
            "\n",
            "\n",
            "</div>\n",
            "</div>\n",
            "\n",
            "\n",
            "\n",
            "\n",
            "</div>\n",
            "\n",
            "\t<section\n",
            "\t\t<div\n",
            "\t\t<div\n",
            "\t\t\t<div\n",
            "\t\t\t\t<a\n",
            "\t\t\t\t\t<defs>\n",
            "\t\t\t\t\t\t<style>\n",
            "\t\t\t\t\t\t</style>\n",
            "\t\t\t\t\t</defs>\n",
            "\t\t\t\t\t<title>Twitter</title>\n",
            "\t\t\t\t\t<path\n",
            "\t\t\t\t\t</path>\n",
            "\t\t\t\t</svg></a>\n",
            "\t\t\t\t<a\n",
            "\t\t\t\t\t<title>Facebook</title>\n",
            "\t\t\t\t\t<path\n",
            "\t\t\t\t\t</path>\n",
            "\t\t\t\t</svg></a>\n",
            "\t\t\t\t<a\n",
            "\t\t\t\t\t\t<title>LinkedIn</title>\n",
            "\t\t\t\t\t\t<path\n",
            "\t\t\t\t\t\t</path>\n",
            "\t\t\t\t\t</svg></a>\n",
            "\t\t\t\t<a\n",
            "\t\t\t\t\t<defs>\n",
            "\t\t\t\t\t\t<style>\n",
            "\t\t\t\t\t\t</style>\n",
            "\t\t\t\t\t</defs>\n",
            "\t\t\t\t\t<title>GitHub</title>\n",
            "\t\t\t\t\t<path\n",
            "\t\t\t\t\t</path>\n",
            "\t\t\t\t\t<path\n",
            "\t\t\t\t\t</path>\n",
            "\t\t\t\t\t<path\n",
            "\t\t\t\t\t</path>\n",
            "\t\t\t\t\t<path\n",
            "\t\t\t\t\t<path\n",
            "\t\t\t\t\t</path>\n",
            "\t\t\t\t\t<path\n",
            "\t\t\t\t\t</path>\n",
            "\t\t\t\t\t<path\n",
            "\t\t\t\t\t</path>\n",
            "\t\t\t\t\t<path\n",
            "\t\t\t\t</svg></a>\n",
            "\t\t\t\t<a\n",
            "\t\t\t\t\t<svg\n",
            "\t\t\t\t\t\t<defs><style>.cls-1{fill:#737373;}</style></defs>\n",
            "\t\t\t\t\t\t<title>NCBI\n",
            "\t\t\t\t\t\t<path\n",
            "\t\t\t\t\t</svg>\n",
            "\t\t\t\t</a>\n",
            "\t\t\t</div>\n",
            "\t\t</div>\n",
            "\t</section>\n",
            "\t<section\n",
            "\t\t<div\n",
            "\t\t\t<div\n",
            "\t\t\t\t<div\n",
            "\t\t\t\t\t<p><a\n",
            "\t\t\t\t\t<ul\n",
            "\t\t\t\t\t\t<li\n",
            "\n",
            "\n",
            "\n",
            "\n",
            "\n",
            "\n",
            "\n",
            "\n",
            "\n",
            "\n",
            "\n",
            "\n",
            "\t\t\t\t\t\t<li\n",
            "\t\t\t\t\t\t\t<svg\n",
            "\n",
            "\n",
            "\n",
            "\n",
            "\n",
            "\n",
            "\n",
            "\n",
            "\n",
            "\n",
            "\t\t\t\t\t\t</a></li>\n",
            "\t\t\t\t\t\t<li\n",
            "\n",
            "\n",
            "\n",
            "\n",
            "\n",
            "\n",
            "\n",
            "\n",
            "\t\t\t\t\t</ul>\n",
            "\t\t\t\t</div>\n",
            "\t\t\t\t<div\n",
            "\t\t\t\t\t<p\n",
            "\t\t\t\t\t\t<a\n",
            "\t\t\t\t\t\t\tBethesda,\n",
            "\t\t\t\t</div>\n",
            "\t\t\t\t<div\n",
            "\t\t\t\t\t<p><a\n",
            "\t\t\t\t\t\t<a\n",
            "\t\t\t\t\t\t<a\n",
            "\t\t\t\t</div>\n",
            "\t\t\t\t<div\n",
            "\t\t\t\t\t<p><a\n",
            "\t\t\t\t\t\t<a\n",
            "\t\t\t\t\t\t<a\n",
            "\t\t\t\t</div>\n",
            "\t\t\t</div>\n",
            "\t\t\t<div\n",
            "\t\t\t\t<div\n",
            "\t\t\t\t\t<nav\n",
            "\t\t\t\t\t\t<ul\n",
            "\t\t\t\t\t\t\t<li>\n",
            "\t\t\t\t\t\t\t\t<a\n",
            "\t\t\t\t\t\t\t</li>\n",
            "\t\t\t\t\t\t\t<li>\n",
            "\t\t\t\t\t\t\t\t<a\n",
            "\t\t\t\t\t\t\t</li>\n",
            "\t\t\t\t\t\t\t<li>\n",
            "\t\t\t\t\t\t\t\t<a\n",
            "\t\t\t\t\t\t\t</li>\n",
            "\t\t\t\t\t\t\t<li>\n",
            "\t\t\t\t\t\t\t\t<a\n",
            "\t\t\t\t\t\t\t</li>\n",
            "\t\t\t\t\t\t</ul>\n",
            "\t\t\t\t\t</nav>\n",
            "\t\t\t\t</div>\n",
            "\t\t\t</div>\n",
            "\t\t</div>\n",
            "\t</section>\n",
            "\t<script\n",
            "\t<script\n",
            "</div>\n",
            "</div>\n",
            "\t\t\t\t\t<div><input\n",
            "\t\t\t\t<input\n",
            "\t\t\t</div>\n",
            "\t\t</div>\n",
            "<!--\n",
            "<span\n",
            "<script\n",
            "</html>\n"
          ]
        }
      ],
      "source": [
        "%%bash\n",
        "\n",
        "zcat SRX21497176.gz | egrep '>'| cut -d \" \" -f 1"
      ]
    },
    {
      "cell_type": "markdown",
      "id": "d6223cab",
      "metadata": {
        "id": "d6223cab"
      },
      "source": [
        "# Exercise #8\n",
        "Take your command from above and edit it so that it publishes the output to a file named \"decoys.txt\"."
      ]
    },
    {
      "cell_type": "code",
      "execution_count": 13,
      "id": "af4847c0",
      "metadata": {
        "id": "af4847c0"
      },
      "outputs": [],
      "source": [
        "%%bash\n",
        "\n",
        "zcat SRX21497176.gz | egrep '>' | cut -d \" \" -f 1 > decoys.txt\n"
      ]
    }
  ],
  "metadata": {
    "kernelspec": {
      "display_name": "Python 3 (ipykernel)",
      "language": "python",
      "name": "python3"
    },
    "language_info": {
      "codemirror_mode": {
        "name": "ipython",
        "version": 3
      },
      "file_extension": ".py",
      "mimetype": "text/x-python",
      "name": "python",
      "nbconvert_exporter": "python",
      "pygments_lexer": "ipython3",
      "version": "3.8.12"
    },
    "toc": {
      "nav_menu": {},
      "number_sections": true,
      "sideBar": true,
      "skip_h1_title": false,
      "title_cell": "Table of Contents",
      "title_sidebar": "Contents",
      "toc_cell": false,
      "toc_position": {},
      "toc_section_display": true,
      "toc_window_display": false
    },
    "colab": {
      "provenance": []
    }
  },
  "nbformat": 4,
  "nbformat_minor": 5
}