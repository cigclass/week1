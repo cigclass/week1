{
  "nbformat": 4,
  "nbformat_minor": 0,
  "metadata": {
    "colab": {
      "provenance": [],
      "authorship_tag": "ABX9TyMhU9m/vtOWfDkpoHLOQKdG",
      "include_colab_link": true
    },
    "kernelspec": {
      "name": "ir",
      "display_name": "R"
    },
    "language_info": {
      "name": "R"
    }
  },
  "cells": [
    {
      "cell_type": "markdown",
      "metadata": {
        "id": "view-in-github",
        "colab_type": "text"
      },
      "source": [
        "<a href=\"https://colab.research.google.com/github/cigclass/week1/blob/main/WD_R_review.ipynb\" target=\"_parent\"><img src=\"https://colab.research.google.com/assets/colab-badge.svg\" alt=\"Open In Colab\"/></a>"
      ]
    },
    {
      "cell_type": "markdown",
      "source": [
        "# Install any necessary libraries."
      ],
      "metadata": {
        "id": "q0QfUpIy73io"
      }
    },
    {
      "cell_type": "code",
      "source": [
        "install.packages(\"ggplot2\")"
      ],
      "metadata": {
        "id": "_La7hrsH73tK",
        "colab": {
          "base_uri": "https://localhost:8080/"
        },
        "outputId": "dbda24c6-1d60-475c-cf19-76f3b2091f1f"
      },
      "execution_count": 4,
      "outputs": [
        {
          "output_type": "stream",
          "name": "stderr",
          "text": [
            "Installing package into ‘/usr/local/lib/R/site-library’\n",
            "(as ‘lib’ is unspecified)\n",
            "\n"
          ]
        }
      ]
    },
    {
      "cell_type": "markdown",
      "source": [
        "# Load your libraries."
      ],
      "metadata": {
        "id": "OL92MAS773-q"
      }
    },
    {
      "cell_type": "code",
      "source": [
        "library(ggplot2)"
      ],
      "metadata": {
        "id": "dXeV2wls74Sd"
      },
      "execution_count": 6,
      "outputs": []
    },
    {
      "cell_type": "markdown",
      "source": [
        "# Define some variables\n",
        "Create two string variables, one each for species and sample, as well as a character vector called \"conditions\". The latter should contain four elements: 2 strings, both of which should be \"control\" and two of whatever you named your sample variable."
      ],
      "metadata": {
        "id": "QqZ9nMfQ74x-"
      }
    },
    {
      "cell_type": "code",
      "source": [
        "str1 <- \"species\"\n",
        "str2 <- \"sample\"\n",
        "conditions <- c(\"control\", \"control\", str2, str2)\n",
        "print(conditions)"
      ],
      "metadata": {
        "id": "kOpp37zQ747M",
        "colab": {
          "base_uri": "https://localhost:8080/"
        },
        "outputId": "e2329ca4-6b39-4317-9bce-80c1564fa05c"
      },
      "execution_count": 1,
      "outputs": [
        {
          "output_type": "stream",
          "name": "stdout",
          "text": [
            "[1] \"control\" \"control\" \"sample\"  \"sample\" \n"
          ]
        }
      ]
    },
    {
      "cell_type": "markdown",
      "source": [
        "# Use Paste0\n",
        "Suppose you have some files, SRARunTableLow.txt and SRARunTableHigh.txt. Create a variable using paste0 and your sample variable such that your new variable matches these file names when your sample variable is changed to \"high\" or \"low.\""
      ],
      "metadata": {
        "id": "7BGMLgS-75KY"
      }
    },
    {
      "cell_type": "code",
      "source": [
        "sample <- \"High\"\n",
        "new_sample <- paste0(\"SRARunTable\", sample, \".txt\")\n",
        "print(new_sample)"
      ],
      "metadata": {
        "id": "tFKuhtqUE7Ef",
        "colab": {
          "base_uri": "https://localhost:8080/"
        },
        "outputId": "289748dc-0682-47ce-fbf7-c63ffb6a6498"
      },
      "execution_count": 2,
      "outputs": [
        {
          "output_type": "stream",
          "name": "stdout",
          "text": [
            "[1] \"SRARunTableHigh.txt\"\n"
          ]
        }
      ]
    },
    {
      "cell_type": "markdown",
      "source": [
        "# Create synthetic data\n",
        "Write two columns of whatever sort of data strikes your fancy and publish it to a csv. Consider the next two exercises when you do this."
      ],
      "metadata": {
        "id": "jTAy8guGLrZ6"
      }
    },
    {
      "cell_type": "code",
      "source": [
        "month <- c(1,2,3,4,5,6,7,8,9,10,11,12)\n",
        "high_temp <- c(20,25,30,40,60,70,75,80,70,60,30,25)\n",
        "\n",
        "df = data.frame(month, high_temp)\n",
        "\n",
        "write.csv(df, \"Weather.csv\", row.names=FALSE)"
      ],
      "metadata": {
        "id": "amLvYlGBLrie"
      },
      "execution_count": 3,
      "outputs": []
    },
    {
      "cell_type": "markdown",
      "source": [
        "# Conditional statement\n",
        "Use the read.csv function to import the first column of your CSV if species is set to human, or the second column if species is set to mouse. Assign this data to a variable."
      ],
      "metadata": {
        "id": "7epUmeo5E7Sd"
      }
    },
    {
      "cell_type": "code",
      "source": [
        "species <- \"mouse\"\n",
        "\n",
        "if (species == \"mouse\") {\n",
        "  read.csv(\"Weather.csv\") [ ,2 ]\n",
        "}\n",
        "\n",
        "if (species == \"human\") {\n",
        "  read.csv(\"Weather.csv\") [ ,1 ]\n",
        "}"
      ],
      "metadata": {
        "id": "LrDmjV80FFs5",
        "colab": {
          "base_uri": "https://localhost:8080/",
          "height": 34
        },
        "outputId": "39ca714d-d175-4b88-9633-a290e5b709b5"
      },
      "execution_count": 4,
      "outputs": [
        {
          "output_type": "display_data",
          "data": {
            "text/html": [
              "<style>\n",
              ".list-inline {list-style: none; margin:0; padding: 0}\n",
              ".list-inline>li {display: inline-block}\n",
              ".list-inline>li:not(:last-child)::after {content: \"\\00b7\"; padding: 0 .5ex}\n",
              "</style>\n",
              "<ol class=list-inline><li>20</li><li>25</li><li>30</li><li>40</li><li>60</li><li>70</li><li>75</li><li>80</li><li>70</li><li>60</li><li>30</li><li>25</li></ol>\n"
            ],
            "text/markdown": "1. 20\n2. 25\n3. 30\n4. 40\n5. 60\n6. 70\n7. 75\n8. 80\n9. 70\n10. 60\n11. 30\n12. 25\n\n\n",
            "text/latex": "\\begin{enumerate*}\n\\item 20\n\\item 25\n\\item 30\n\\item 40\n\\item 60\n\\item 70\n\\item 75\n\\item 80\n\\item 70\n\\item 60\n\\item 30\n\\item 25\n\\end{enumerate*}\n",
            "text/plain": [
              " [1] 20 25 30 40 60 70 75 80 70 60 30 25"
            ]
          },
          "metadata": {}
        }
      ]
    },
    {
      "cell_type": "markdown",
      "source": [
        "# Use ggplot\n",
        "Plot the data from your csv using ggplot in whatever format strikes your fancy and is appropriate for the data you chose. Pick some fun colors to use."
      ],
      "metadata": {
        "id": "rikpHQh_FF2n"
      }
    },
    {
      "cell_type": "code",
      "source": [
        "ggplot(df, aes(x=month, y=high_temp)) +\n",
        "  geom_line(color='salmon') + geom_point(color='black')"
      ],
      "metadata": {
        "id": "xQIfD6EfMDid",
        "colab": {
          "base_uri": "https://localhost:8080/",
          "height": 437
        },
        "outputId": "707179b7-10fd-4770-e518-615c9766de03"
      },
      "execution_count": 10,
      "outputs": [
        {
          "output_type": "display_data",
          "data": {
            "text/plain": [
              "plot without title"
            ],
            "image/png": "[encoded data removed]"
          },
          "metadata": {
            "image/png": {
              "width": 420,
              "height": 420
            }
          }
        }
      ]
    }
  ]
}